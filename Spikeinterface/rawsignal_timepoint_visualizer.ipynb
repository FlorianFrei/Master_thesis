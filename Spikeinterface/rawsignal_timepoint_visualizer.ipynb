{
 "cells": [
  {
   "cell_type": "code",
   "execution_count": null,
   "id": "00af2f5a-fca7-4ad7-86b7-085f472aa1fe",
   "metadata": {},
   "outputs": [],
   "source": [
    "39.334144\n",
    "29        70.122162\n",
    "59       100.716466\n",
    "130       169.44795\n",
    "149      188.279637\n",
    "157      198.231465\n",
    "249      287.153206\n",
    "260      296.825728\n",
    "301      337.139201\n",
    "331      365.217019\n",
    "347       384.87475\n",
    "414       453.38231\n",
    "437      473.932208\n",
    "637      678.914027\n",
    "771      826.961167\n",
    "826      876.776673\n",
    "834      886.634436"
   ]
  },
  {
   "cell_type": "code",
   "execution_count": null,
   "id": "363d7975-b0bb-4eed-bb4d-c8734a1b5c6a",
   "metadata": {},
   "outputs": [],
   "source": [
    "a = [39.33414398157326, 70.12216157854493, 100.7164657981932, 169.44794962476283, 188.27963668828414, 198.2314651355102, 287.1532060019069, 296.82572790443015, 337.139200933609, 365.2170186910594, 384.8747498890809, 453.38230957020005, 473.93220815043475, 678.9140270340689, 826.9611673151898, 876.7766734624718, 886.6344355743724, 906.4780109994053, 935.9682906695742, 966.2939706588127, 986.1395888948678, 1006.3566874609425, 1046.0601474007156, 1085.4482997913778, 1095.0181543645515, 1172.4844537018682, 1191.9019739646756, 1319.4617965459297, 1339.7978852378394, 1388.6349786685926, 1407.5910164471884, 1417.8204270133008, 1437.8908334551081, 1477.086425817262, 1635.6439625772896, 1645.3586005295801, 1774.6980429431815, 1833.608480366836, 1872.3881856484759, 1892.344400133103, 1931.428408694175, 2020.7695513635977]\n",
    "a = a[0:10]\n",
    "print(a)"
   ]
  },
  {
   "cell_type": "code",
   "execution_count": null,
   "id": "05ee070e-aa40-4700-bb65-b51cd80ecc1c",
   "metadata": {},
   "outputs": [],
   "source": [
    "%matplotlib widget\n",
    "import spikeinterface.full as si\n",
    "import ipywidgets as widgets\n",
    "import numpy as np\n",
    "\n",
    "# --- Load recording ---\n",
    "recording =  si.read_spikeglx(\"E:/Florian_paper/Florian/Data/Opto_2/O5_1\",stream_id='imec0.ap', load_sync_channel=False)\n",
    "rec1 = si.highpass_filter(recording, freq_min=400.)\n",
    "rec1 = si.phase_shift(rec1)\n",
    "\n",
    "rec1= si.common_reference(rec1, operator=\"median\", reference=\"global\")\n",
    "fs = recording.get_sampling_frequency()\n",
    "\n",
    "timepoints = a\n",
    "window_start_ms = -1# e.g., -10 ms before event\n",
    "window_end_ms = 8 # e.g., +20 ms after event\n",
    "window_start_s = window_start_ms / 1000\n",
    "window_end_s = window_end_ms / 1000\n",
    "\n",
    "# --- Build dict of sliced recordings ---\n",
    "recording_slices = {}\n",
    "for i, t in enumerate(timepoints):\n",
    "    start_sample = max(int((t + window_start_s) * fs), 0)\n",
    "    end_sample = int((t + window_end_s) * fs)\n",
    "    sliced = recording.frame_slice(start_frame=start_sample, end_frame=end_sample)\n",
    "    label = f\"timepoint_{i+1} ({t:.2f}s)\"\n",
    "    recording_slices[label] = sliced\n",
    "\n",
    "\n",
    "# --- UI elements ---\n",
    "dropdown = widgets.Dropdown(\n",
    "    options=recording_slices.keys(),\n",
    "    value=list(recording_slices.keys())[0],\n",
    "    description='Timepoint:'\n",
    ")\n",
    "\n",
    "output = widgets.Output()\n",
    "\n",
    "# --- Plot update function ---\n",
    "def update_plot(change):\n",
    "    output.clear_output(wait=True)\n",
    "    with output:\n",
    "        si.plot_traces(\n",
    "            recording_slices[change['new']],\n",
    "            backend='ipywidgets',\n",
    "            time_range=(window_start_s, window_end_s)\n",
    "        )\n",
    "\n",
    "dropdown.observe(update_plot, names='value')\n",
    "\n",
    "# --- Show everything ---\n",
    "display(dropdown, output)\n",
    "update_plot({'new': dropdown.value})\n"
   ]
  },
  {
   "cell_type": "code",
   "execution_count": null,
   "id": "84f4c3a7-75b4-4427-a9db-ca2417e4fa4c",
   "metadata": {},
   "outputs": [],
   "source": [
    "!phy template-gui E:\\Florian_paper\\Florian\\Data\\Opto_2\\O5_1\\sorted\\phy\\params.py"
   ]
  },
  {
   "cell_type": "code",
   "execution_count": null,
   "id": "042c0fad-ba2e-4f62-9486-e957de614a31",
   "metadata": {},
   "outputs": [],
   "source": []
  }
 ],
 "metadata": {
  "kernelspec": {
   "display_name": "Python 3 (ipykernel)",
   "language": "python",
   "name": "python3"
  },
  "language_info": {
   "codemirror_mode": {
    "name": "ipython",
    "version": 3
   },
   "file_extension": ".py",
   "mimetype": "text/x-python",
   "name": "python",
   "nbconvert_exporter": "python",
   "pygments_lexer": "ipython3",
   "version": "3.9.21"
  }
 },
 "nbformat": 4,
 "nbformat_minor": 5
}
