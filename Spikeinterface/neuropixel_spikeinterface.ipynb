{
 "cells": [
  {
   "cell_type": "code",
   "execution_count": null,
   "id": "3ebdd5ee-49b3-476b-9b1e-e01c29890e4d",
   "metadata": {},
   "outputs": [],
   "source": [
    "import spikeinterface.full as si\n",
    "import matplotlib.pyplot as plt\n",
    "import numpy as np\n",
    "import probeinterface as pi\n",
    "from pathlib import Path\n",
    "import os \n",
    "import pandas as pd \n",
    "\n",
    "global_job_kwargs = dict(n_jobs=4, chunk_duration=\"1s\",progress_bar=True)\n",
    "si.set_global_job_kwargs(**global_job_kwargs)\n",
    "\n",
    "\n",
    "basefolder=\"F:/copydaya/M7_1_copy\"\n",
    "\n",
    "metapath = basefolder + str('/Meta')\n",
    "if not os.path.isdir(metapath):\n",
    "   os.makedirs(metapath)\n",
    "\n",
    "\n",
    "recording =  si.read_spikeglx(basefolder, stream_id='imec1.ap', load_sync_channel=False)\n",
    "lfp = si.read_spikeglx(basefolder, stream_id='imec1.lf', load_sync_channel=False)\n",
    "event =  si.read_spikeglx(basefolder, stream_id='nidq', load_sync_channel=False)\n",
    "print(recording)\n",
    "\n",
    "#recording = si.ChannelSliceRecording(recording, channel_ids=recording.get_channel_ids()[180:330])\n"
   ]
  },
  {
   "cell_type": "code",
   "execution_count": null,
   "id": "8669e9e3-6c78-4798-ac9e-595a3a941744",
   "metadata": {},
   "outputs": [],
   "source": [
    "\n",
    "\n",
    "bad_channel_ids, channel_labels = si.detect_bad_channels(lfp,method = 'coherence+psd',outside_channels_location = 'both')\n",
    "names = lfp.channel_ids\n",
    "depth = lfp.get_channel_locations()[:,1]\n",
    "\n",
    "\n",
    "ar = pd.DataFrame({'name':names, 'depth':depth, 'labels':channel_labels})\n",
    "ar.to_csv(metapath + str('/lfp_labels.csv'))\n",
    "filtered_ar = ar[ar['labels'] == 'out']\n",
    "\n",
    "print(filtered_ar)"
   ]
  },
  {
   "cell_type": "code",
   "execution_count": null,
   "id": "37eb0f77-af0d-4b43-abea-498a618c36a8",
   "metadata": {},
   "outputs": [],
   "source": [
    "fig, ax = plt.subplots(figsize=(15, 15))\n",
    "si.plot_probe_map(recording4, ax=ax, with_channel_ids=True)\n",
    "ax.set_ylim(-200,3000)"
   ]
  },
  {
   "cell_type": "code",
   "execution_count": null,
   "id": "670c2497-26c0-4677-bfce-5e38ba874eeb",
   "metadata": {},
   "outputs": [],
   "source": [
    "rec1 = si.highpass_filter(recording, freq_min=400.)\n",
    "rec1 = si.phase_shift(rec1)\n",
    "bad_channel_ids, channel_labels = si.detect_bad_channels(rec1,method = 'coherence+psd')\n",
    "print(bad_channel_ids)\n",
    "rec1 = si.interpolate_bad_channels(recording=rec1, bad_channel_ids=bad_channel_ids)\n",
    "\n",
    "rec1 = si.common_reference(rec1, operator=\"median\", reference=\"global\")\n",
    "print(rec1)\n",
    "\n",
    "\n",
    "%matplotlib widget\n",
    "si.plot_traces({'raw':recording,'filtered':rec1}, backend='ipywidgets')"
   ]
  },
  {
   "cell_type": "code",
   "execution_count": null,
   "id": "6b355e63-3f69-4455-bfab-dcdbb894e26d",
   "metadata": {},
   "outputs": [],
   "source": [
    "\n",
    "\n",
    "def extract_and_save_ttl_events(data, bits, save_path):\n",
    "    digital_signals = data.get_traces()\n",
    "    digital_word = digital_signals[:, 0]\n",
    "    sampling_rate = data.get_sampling_frequency()\n",
    "    for bit in bits:\n",
    "        # Extract TTL pulses for the current bit\n",
    "        ttl_timestamps = extract_ttl_from_bit(digital_word, bit, sampling_rate)\n",
    "        \n",
    "        ttl_df = pd.DataFrame(ttl_timestamps, columns=['timestamps'])\n",
    "        \n",
    "        filename = f'ttl_{bit}.csv'\n",
    "        \n",
    "        ttl_df.to_csv(f\"{save_path}/{filename}\", index=False)\n",
    "        print(f\"Extracted TTL event timestamps for bit {bit} saved to {filename}\")\n",
    "\n",
    "\n",
    "def extract_ttl_from_bit(digital_word, bit, sampling_rate):\n",
    "    # Extract the specific bit from the word (bit-shifting and masking)\n",
    "    ttl_signal = (digital_word >> bit) & 1  # Right shift and mask to isolate the specific bit\n",
    "    \n",
    "    # Detect rising edges (0 -> 1 transitions)\n",
    "    ttl_rising_edges = np.where(np.diff(ttl_signal) > 0)[0]\n",
    "    \n",
    "    # Convert sample indices to timestamps (in seconds)\n",
    "    ttl_timestamps = ttl_rising_edges / sampling_rate\n",
    "    \n",
    "    return ttl_timestamps\n",
    "\n",
    "\n",
    "bits_to_extract = [0, 1, 2]  \n",
    "extract_and_save_ttl_events(event , bits_to_extract, metapath)"
   ]
  },
  {
   "cell_type": "code",
   "execution_count": null,
   "id": "ff0043c1-1de6-42c4-a1b1-4deb4ad76b5e",
   "metadata": {},
   "outputs": [],
   "source": [
    "from spikeinterface.sorters import installed_sorters\n",
    "installed_sorters()\n",
    "import torch\n",
    "print(torch.cuda.is_available())\n",
    "print(torch.cuda.current_device())\n",
    "torch.cuda.get_device_name(0)\n",
    "\n",
    "Sorting_KS4 = si.run_sorter(sorter_name=\"kilosort4\", recording=rec1, folder=basefolder + str('/sorted'),remove_existing_folder=True)"
   ]
  },
  {
   "cell_type": "code",
   "execution_count": null,
   "id": "3016961d-0522-49f7-a2aa-0bf95034e1ee",
   "metadata": {},
   "outputs": [],
   "source": [
    "#Sorting_KS4 = si.read_kilosort(folder_path=basefolder + str('/sorted/sorter_output'))\n",
    "analyzer = si.create_sorting_analyzer(Sorting_KS4, rec1, sparse=True, format=\"memory\")\n",
    "\n"
   ]
  },
  {
   "cell_type": "code",
   "execution_count": null,
   "id": "b1e49ba9-f361-4caf-8cc7-a55f4f837daf",
   "metadata": {},
   "outputs": [],
   "source": [
    "analyzer.compute(['random_spikes', 'waveforms', 'templates', 'noise_levels','unit_locations','correlograms'],**global_job_kwargs)\n",
    "analyzer.compute('spike_amplitudes')\n",
    "analyzer.compute('principal_components', n_components = 5, mode=\"by_channel_local\",**global_job_kwargs)"
   ]
  },
  {
   "cell_type": "code",
   "execution_count": null,
   "id": "0e9df4a1-5841-488d-961f-4792f50375af",
   "metadata": {},
   "outputs": [],
   "source": [
    "metric_names=['firing_rate', 'presence_ratio', 'snr','isi_violation', 'amplitude_cutoff']\n",
    "metrics = si.compute_quality_metrics(analyzer, metric_names=metric_names)\n",
    "\n",
    "\n",
    "amplitude_cutoff_thresh = 0.1\n",
    "isi_violations_ratio_thresh = 0.5\n",
    "presence_ratio_thresh = 0.9\n",
    "\n",
    "\n",
    "our_query = f\"(amplitude_cutoff < {amplitude_cutoff_thresh}) & (isi_violations_ratio < {isi_violations_ratio_thresh}) & (presence_ratio > {presence_ratio_thresh})\"\n",
    "\n",
    "keep_units = metrics.query(our_query)\n",
    "keep_unit_ids = keep_units.index.values\n",
    "analyzer_clean = analyzer.select_units(keep_unit_ids, folder=basefolder +str('/analyzer_clean'), format='binary_folder')\n",
    "print(analyzer)\n",
    "print(analyzer_clean)\n"
   ]
  },
  {
   "cell_type": "code",
   "execution_count": null,
   "id": "bc149b7e-54e0-4181-b3e3-c0a767214c73",
   "metadata": {},
   "outputs": [],
   "source": [
    "si.plot_sorting_summary(sorting_analyzer=sorting_analyzer, curation=True, backend='spikeinterface_gui')"
   ]
  },
  {
   "cell_type": "code",
   "execution_count": null,
   "id": "51e4405f-72e9-432c-8f88-29136f61f9a4",
   "metadata": {},
   "outputs": [],
   "source": [
    "si.export_to_phy(analyzer_clean, output_folder=basefolder + str('/sorted/phy'),**global_job_kwargs)"
   ]
  },
  {
   "cell_type": "code",
   "execution_count": 3,
   "id": "ca5220e8-4fda-4da7-9692-2b268cd86c96",
   "metadata": {},
   "outputs": [
    {
     "name": "stderr",
     "output_type": "stream",
     "text": [
      "\u001b[33m15:26:33.627 [W] model:625            Unreferenced clusters found in spike_clusters (generally not a problem)\u001b[0m\n",
      "\u001b[33m15:26:33.744 [W] model:667            Skipping spike waveforms that do not exist, they will be extracted on the fly from the raw data as needed.\u001b[0m\n",
      "\u001b[0m15:32:31.326 [I] supervisor:711       Change metadata_group for clusters 159 to mua.\u001b[0m\n",
      "\u001b[0m15:32:32.766 [I] supervisor:711       Change metadata_group for clusters 158 to mua.\u001b[0m\n",
      "\u001b[0m15:32:40.614 [I] supervisor:711       Change metadata_group for clusters 154 to mua.\u001b[0m\n",
      "\u001b[0m15:32:50.199 [I] supervisor:711       Change metadata_group for clusters 149 to mua.\u001b[0m\n",
      "\u001b[0m15:32:54.501 [I] supervisor:711       Change metadata_group for clusters 147 to mua.\u001b[0m\n",
      "\u001b[0m15:32:58.390 [I] supervisor:711       Change metadata_group for clusters 145 to mua.\u001b[0m\n",
      "\u001b[0m15:33:02.974 [I] supervisor:711       Change metadata_group for clusters 143 to mua.\u001b[0m\n",
      "\u001b[0m15:33:07.494 [I] supervisor:711       Change metadata_group for clusters 141 to mua.\u001b[0m\n",
      "\u001b[0m15:33:17.574 [I] supervisor:711       Change metadata_group for clusters 139 to mua.\u001b[0m\n",
      "\u001b[0m15:33:22.142 [I] supervisor:711       Change metadata_group for clusters 137 to mua.\u001b[0m\n",
      "\u001b[0m15:33:23.422 [I] supervisor:711       Change metadata_group for clusters 136 to mua.\u001b[0m\n",
      "\u001b[0m15:33:27.198 [I] supervisor:711       Change metadata_group for clusters 133 to mua.\u001b[0m\n",
      "\u001b[0m15:33:29.446 [I] supervisor:711       Change metadata_group for clusters 131 to mua.\u001b[0m\n",
      "\u001b[0m15:33:32.734 [I] supervisor:711       Change metadata_group for clusters 128 to mua.\u001b[0m\n",
      "\u001b[0m15:33:34.030 [I] supervisor:711       Change metadata_group for clusters 126 to mua.\u001b[0m\n",
      "\u001b[0m15:33:36.959 [I] supervisor:711       Change metadata_group for clusters 124 to mua.\u001b[0m\n",
      "\u001b[0m15:33:46.166 [I] supervisor:711       Change metadata_group for clusters 121 to mua.\u001b[0m\n",
      "\u001b[0m15:33:49.093 [I] supervisor:711       Change metadata_group for clusters 120 to mua.\u001b[0m\n",
      "\u001b[0m15:34:26.303 [I] supervisor:711       Change metadata_group for clusters 91 to mua.\u001b[0m\n",
      "\u001b[0m15:34:31.422 [I] supervisor:711       Change metadata_group for clusters 86 to mua.\u001b[0m\n",
      "\u001b[0m15:34:33.718 [I] supervisor:711       Change metadata_group for clusters 84 to mua.\u001b[0m\n",
      "\u001b[0m15:34:35.782 [I] supervisor:711       Change metadata_group for clusters 82 to mua.\u001b[0m\n",
      "\u001b[0m15:34:45.590 [I] supervisor:711       Change metadata_group for clusters 77 to mua.\u001b[0m\n",
      "\u001b[0m15:34:48.583 [I] supervisor:711       Change metadata_group for clusters 74 to mua.\u001b[0m\n",
      "\u001b[0m15:34:49.702 [I] supervisor:711       Change metadata_group for clusters 73 to mua.\u001b[0m\n",
      "\u001b[0m15:34:54.022 [I] supervisor:711       Change metadata_group for clusters 66 to mua.\u001b[0m\n",
      "\u001b[0m15:35:01.478 [I] supervisor:711       Change metadata_group for clusters 60 to mua.\u001b[0m\n",
      "\u001b[0m15:35:07.438 [I] supervisor:711       Change metadata_group for clusters 57 to mua.\u001b[0m\n",
      "\u001b[0m15:35:09.702 [I] supervisor:711       Change metadata_group for clusters 53 to mua.\u001b[0m\n",
      "\u001b[0m15:35:11.918 [I] supervisor:711       Change metadata_group for clusters 50 to mua.\u001b[0m\n",
      "\u001b[0m15:35:14.078 [I] supervisor:711       Change metadata_group for clusters 48 to mua.\u001b[0m\n",
      "\u001b[0m15:35:16.590 [I] supervisor:711       Change metadata_group for clusters 46 to mua.\u001b[0m\n",
      "\u001b[0m15:35:19.142 [I] supervisor:711       Change metadata_group for clusters 44 to mua.\u001b[0m\n",
      "\u001b[0m15:35:23.870 [I] supervisor:711       Change metadata_group for clusters 40 to mua.\u001b[0m\n",
      "\u001b[0m15:35:26.119 [I] supervisor:711       Change metadata_group for clusters 38 to mua.\u001b[0m\n",
      "\u001b[0m15:35:29.767 [I] supervisor:711       Change metadata_group for clusters 34 to mua.\u001b[0m\n",
      "\u001b[0m15:35:31.837 [I] supervisor:711       Change metadata_group for clusters 32 to mua.\u001b[0m\n",
      "\u001b[0m15:35:33.926 [I] supervisor:711       Change metadata_group for clusters 30 to mua.\u001b[0m\n",
      "\u001b[0m15:35:46.222 [I] supervisor:711       Change metadata_group for clusters 26 to mua.\u001b[0m\n",
      "\u001b[0m15:36:06.374 [I] supervisor:711       Change metadata_group for clusters 24 to mua.\u001b[0m\n",
      "\u001b[0m15:36:07.423 [I] supervisor:711       Change metadata_group for clusters 18 to mua.\u001b[0m\n",
      "\u001b[0m15:36:10.975 [I] supervisor:711       Change metadata_group for clusters 15 to mua.\u001b[0m\n",
      "\u001b[0m15:36:12.446 [I] supervisor:711       Change metadata_group for clusters 14 to mua.\u001b[0m\n",
      "\u001b[0m15:36:18.654 [I] supervisor:711       Change metadata_group for clusters 8 to mua.\u001b[0m\n",
      "\u001b[0m15:36:21.918 [I] supervisor:711       Change metadata_group for clusters 5 to mua.\u001b[0m\n"
     ]
    }
   ],
   "source": [
    "!phy template-gui E:/Florian/Data/batch3/M9_1/M9_SNA-135383_19092024_1_g0_imec1/sorted/phy/params.py"
   ]
  }
 ],
 "metadata": {
  "kernelspec": {
   "display_name": "Python 3 (ipykernel)",
   "language": "python",
   "name": "python3"
  },
  "language_info": {
   "codemirror_mode": {
    "name": "ipython",
    "version": 3
   },
   "file_extension": ".py",
   "mimetype": "text/x-python",
   "name": "python",
   "nbconvert_exporter": "python",
   "pygments_lexer": "ipython3",
   "version": "3.10.13"
  }
 },
 "nbformat": 4,
 "nbformat_minor": 5
}
